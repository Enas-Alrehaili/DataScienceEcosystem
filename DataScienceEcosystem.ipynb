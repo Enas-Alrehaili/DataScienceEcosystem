{
 "cells": [
  {
   "cell_type": "markdown",
   "id": "ae387998-5171-40a6-99fc-c0fbdaa53fd2",
   "metadata": {
    "jp-MarkdownHeadingCollapsed": true,
    "tags": []
   },
   "source": [
    "\n",
    "Some of the popular languages that Data Scientists use are:\n",
    "1. Python\n",
    "2. R\n",
    "3. C++"
   ]
  },
  {
   "cell_type": "markdown",
   "id": "3338dd08-00f5-4faf-be22-258f70fccac5",
   "metadata": {},
   "source": [
    "# Data Science Tools and Ecosystem"
   ]
  },
  {
   "cell_type": "markdown",
   "id": "cc616c97-db00-4542-9a9e-606fb93cfdaf",
   "metadata": {},
   "source": [
    "In this notebook, Data Science Tools and Ecosystem are summarized."
   ]
  },
  {
   "cell_type": "markdown",
   "id": "eedcff54-c45b-4cbe-96c0-20d0f0e6bb71",
   "metadata": {},
   "source": [
    "**Objectives\n",
    "- Popular development environments for Data Science include Jupyter Notebooks and RStudio. \n",
    "- Jupyter Notebooks provides an interactive environment \n"
   ]
  },
  {
   "cell_type": "markdown",
   "id": "c21ef0b7-bf81-4a53-b5fe-ac1ceb1ee8dc",
   "metadata": {},
   "source": [
    " Some of the commonly used libraries used by Data Scientists include:\n",
    "1. pandas\n",
    "2. Numpy\n",
    "3. matplotlib"
   ]
  },
  {
   "cell_type": "markdown",
   "id": "80747675-c087-4b32-a5db-90398a6dab38",
   "metadata": {},
   "source": [
    "| Data Science Tools |\n",
    "| -------------| \n",
    "| MySQL |\n",
    "| MongoDB | \n",
    "| Hadoop | "
   ]
  },
  {
   "cell_type": "markdown",
   "id": "51993956-e9b5-455e-a4f5-8ee752c3f982",
   "metadata": {},
   "source": [
    "### Below are a few examples of evaluating arithmetic expressions in Python"
   ]
  },
  {
   "cell_type": "markdown",
   "id": "675803dc-b743-4b74-8b44-d33f602c9626",
   "metadata": {},
   "source": [
    "This a simple arithmetic expression to mutiply then add integers"
   ]
  },
  {
   "cell_type": "code",
   "execution_count": 3,
   "id": "b07b4038-4ac1-4c5d-ae78-016eb931e18e",
   "metadata": {
    "tags": []
   },
   "outputs": [
    {
     "data": {
      "text/plain": [
       "17"
      ]
     },
     "execution_count": 3,
     "metadata": {},
     "output_type": "execute_result"
    }
   ],
   "source": [
    "(3*4)+5"
   ]
  },
  {
   "cell_type": "markdown",
   "id": "160c3e51-27f8-4dc3-ad67-fdf69678d35c",
   "metadata": {},
   "source": [
    "This will convert 200 minutes to hours by diving by 60"
   ]
  },
  {
   "cell_type": "code",
   "execution_count": 4,
   "id": "9709ce1c-7f8e-435b-968e-a87135a73cef",
   "metadata": {
    "tags": []
   },
   "outputs": [
    {
     "data": {
      "text/plain": [
       "3.3333333333333335"
      ]
     },
     "execution_count": 4,
     "metadata": {},
     "output_type": "execute_result"
    }
   ],
   "source": [
    "200/60"
   ]
  },
  {
   "cell_type": "markdown",
   "id": "7a9c1d5c-97a5-4a50-a789-927505f2f0f3",
   "metadata": {},
   "source": [
    "## Author\n",
    "Enas Abdulrahman"
   ]
  },
  {
   "cell_type": "code",
   "execution_count": null,
   "id": "8189fe94-0bd8-456d-b430-dc75dfe00c89",
   "metadata": {},
   "outputs": [],
   "source": []
  }
 ],
 "metadata": {
  "kernelspec": {
   "display_name": "Python",
   "language": "python",
   "name": "conda-env-python-py"
  },
  "language_info": {
   "codemirror_mode": {
    "name": "ipython",
    "version": 3
   },
   "file_extension": ".py",
   "mimetype": "text/x-python",
   "name": "python",
   "nbconvert_exporter": "python",
   "pygments_lexer": "ipython3",
   "version": "3.7.12"
  }
 },
 "nbformat": 4,
 "nbformat_minor": 5
}
